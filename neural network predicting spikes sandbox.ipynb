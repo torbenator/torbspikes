{
 "cells": [
  {
   "cell_type": "code",
   "execution_count": null,
   "metadata": {
    "collapsed": false
   },
   "outputs": [],
   "source": [
    "%config InlineBackend.figure_format = 'retina'\n",
    "%pylab inline\n",
    "%load_ext autoreload\n",
    "%autoreload 2\n",
    "\n",
    "import scipy.io\n",
    "import matplotlib.pyplot as plt\n",
    "from scipy.stats import pearsonr\n",
    "import torbspikes as ts\n",
    "from keras.utils.visualize_util import plot as kplot\n",
    "#kplot(mod)\n",
    "\n",
    "from IPython.display import SVG\n",
    "from keras.utils.visualize_util import model_to_dot\n",
    "import xgboost as xgb\n",
    "\n",
    "from sklearn.metrics import accuracy_score\n",
    "\n",
    "indir = \"/Users/Torben/Documents/Kording/GLMDeep/M1 Stevenson Binned.mat\"\n",
    "outdir=\"/Users/Torben/Documents/Kording/GLMDeep/results_9.28.16/\"\n"
   ]
  },
  {
   "cell_type": "code",
   "execution_count": null,
   "metadata": {
    "collapsed": false
   },
   "outputs": [],
   "source": [
    "# get data\n",
    "monkey_dat = scipy.io.loadmat(indir)\n",
    "monkey_dat.keys()\n",
    "all_spikes = monkey_dat['spikes']"
   ]
  },
  {
   "cell_type": "code",
   "execution_count": null,
   "metadata": {
    "collapsed": false
   },
   "outputs": [],
   "source": [
    "neuron_n = 193\n",
    "kernel_params = {\"kernel_size\":[3,5,10,15],\"kernel_type\":[\"cos\", \"cos\",\"cos\",\"cos\"],\"X\":True,\"y\":False}\n",
    "X_train,X_test,y_train,y_test = ts.bookkeeping.organize_data(all_spikes=all_spikes,my_neuron=neuron_n,\n",
    "                                              subsample=None,train_test_ratio=0.9,\n",
    "                                              winsize=5,convolve_params=None,\n",
    "                                              RNN_out=False,verbose=False)"
   ]
  },
  {
   "cell_type": "code",
   "execution_count": null,
   "metadata": {
    "collapsed": false
   },
   "outputs": [],
   "source": []
  },
  {
   "cell_type": "code",
   "execution_count": null,
   "metadata": {
    "collapsed": false
   },
   "outputs": [],
   "source": [
    "X_train_rnn,X_test_rnn,y_train_rnn,y_test_rnn = ts.bookkeeping.organize_data(all_spikes=all_spikes,my_neuron=neuron_n,\n",
    "                                              subsample=None,train_test_ratio=0.9,\n",
    "                                              winsize=5,convolve_params=None,\n",
    "                                              RNN_out=True,verbose=False)"
   ]
  },
  {
   "cell_type": "code",
   "execution_count": null,
   "metadata": {
    "collapsed": false
   },
   "outputs": [],
   "source": [
    "glm_pred,glm_model = ts.models.GLM_poisson(X_train,y_train,X_test,return_model=True)"
   ]
  },
  {
   "cell_type": "code",
   "execution_count": null,
   "metadata": {
    "collapsed": true
   },
   "outputs": [],
   "source": [
    "from keras.models import Sequential\n",
    "from keras.layers.core import Dense, Dropout, Activation\n",
    "from keras.layers.core import Lambda\n",
    "from keras.layers.recurrent import LSTM\n",
    "from keras.regularizers import l1, activity_l1\n",
    "\n",
    "def RNN_into_GLM(Xr,Yr,Xt):    \n",
    "\n",
    "    model = Sequential()\n",
    "    model.add(LSTM(10, input_dim=196))\n",
    "    model.add(Dense(1, input_dim=10, init='uniform', activation='linear'))\n",
    "    model.add(Lambda(lambda x: np.exp(x)))\n",
    "    model.compile(loss='mean_squared_error', optimizer='adam')\n",
    "    model.fit(Xr, Yr, nb_epoch=10, batch_size=16, verbose=2)\n",
    "    result = model.predict(Xt)\n",
    "    return result, model\n"
   ]
  },
  {
   "cell_type": "code",
   "execution_count": null,
   "metadata": {
    "collapsed": false,
    "scrolled": true
   },
   "outputs": [],
   "source": []
  },
  {
   "cell_type": "code",
   "execution_count": null,
   "metadata": {
    "collapsed": false,
    "scrolled": false
   },
   "outputs": [],
   "source": [
    "X_train_rnn_shrink,X_test_rnn_shrink,y_train_rnn_shrink,y_test_rnn_shrink = ts.bookkeeping.organize_data(all_spikes=all_spikes,my_neuron=neuron_n,\n",
    "                                              subsample=None,train_test_ratio=0.9,\n",
    "                                              winsize=5,convolve_params=None,\n",
    "                                              RNN_out=True,verbose=False,shrink_X=0.1)"
   ]
  },
  {
   "cell_type": "code",
   "execution_count": null,
   "metadata": {
    "collapsed": false,
    "scrolled": true
   },
   "outputs": [],
   "source": [
    "\n",
    "'''    \n",
    "glm_r2 = []\n",
    "rnn_r2 = []\n",
    "for neuron_n in range(50):\n",
    "\n",
    "    X_train,X_test,y_train,y_test = ts.bookkeeping.organize_data(all_spikes=all_spikes,my_neuron=neuron_n,\n",
    "                                                  subsample=None,train_test_ratio=0.9,\n",
    "                                                  winsize=5,convolve_params=None,\n",
    "                                                  RNN_out=False,verbose=False)\n",
    "    glm_pred,glm_model = ts.models.GLM_poisson(X_train,y_train,X_test,return_model=True)\n",
    "    \n",
    "    X_train_rnn_shrink,X_test_rnn_shrink,y_train_rnn,y_test_rnn = ts.bookkeeping.organize_data(all_spikes=all_spikes,my_neuron=neuron_n,\n",
    "                                                  subsample=None,train_test_ratio=0.9,\n",
    "                                                  winsize=5,convolve_params=None,\n",
    "                                                  RNN_out=True,verbose=False,shrink_X=0.1)\n",
    "    rnn_pred, rnn_model = RNN_into_GLM(X_train_rnn_shrink,y_train_rnn,X_test_rnn_shrink)\n",
    "    \n",
    "    glm_r2.append(ts.math.poisson_pseudoR2(y_test,glm_pred,verbose=False))\n",
    "    rnn_r2.append(ts.math.poisson_pseudoR2(y_test_rnn,rnn_pred,verbose=False))\n",
    "np.save('glm1to50',glm_r2)\n",
    "np.save('rnn1to50',rnn_r2)\n",
    "'''"
   ]
  },
  {
   "cell_type": "code",
   "execution_count": null,
   "metadata": {
    "collapsed": false
   },
   "outputs": [],
   "source": [
    "glm_r2 = np.load('/Users/Torben/Documents/Kording/GLMDeep/glm1to50.npy')\n",
    "rnn_r2 = np.load('/Users/Torben/Documents/Kording/GLMDeep/rnn1to50.npy')\n",
    "\n",
    "new_inds = ts.bookkeeping.sort_spikes(all_spikes, method='sum')\n",
    "#plt.plot(new_inds)\n",
    "#ts.plotting.plot_preds(y_test_rnn,rnn_pred)\n",
    "glm_r2_sorted_by_sc = []\n",
    "rnn_r2_sorted_by_sc = []\n",
    "#inds_sorted_by_sc = []\n",
    "for i in new_inds:\n",
    "    if i in range(50):\n",
    "        glm_r2_sorted_by_sc.append(glm_r2[i])\n",
    "        rnn_r2_sorted_by_sc.append(rnn_r2[i])\n",
    "\n",
    "plt.plot(glm_r2_sorted_by_sc)\n",
    "plt.plot(rnn_r2_sorted_by_sc,'r')"
   ]
  },
  {
   "cell_type": "code",
   "execution_count": null,
   "metadata": {
    "collapsed": false,
    "scrolled": true
   },
   "outputs": [],
   "source": [
    "high_spiking = ts.bookkeeping.sort_spikes(all_spikes,method='sum')[-10:]\n",
    "mid_spiking = ts.bookkeeping.sort_spikes(all_spikes,method='sum')[100:110]\n",
    "low_spiking = ts.bookkeeping.sort_spikes(all_spikes,method='sum')[:10]\n",
    "\n",
    "glm_low = []\n",
    "rnn_low = []\n",
    "\n",
    "for neuron_n in low_spiking:\n",
    "\n",
    "    X_train,X_test,y_train,y_test = ts.bookkeeping.organize_data(all_spikes=all_spikes,my_neuron=neuron_n,\n",
    "                                                  subsample=None,train_test_ratio=0.9,\n",
    "                                                  winsize=5,convolve_params=None,\n",
    "                                                  RNN_out=False,verbose=False)\n",
    "    glm_pred,glm_model = ts.models.GLM_poisson(X_train,y_train,X_test,return_model=True)\n",
    "    \n",
    "    X_train_rnn_shrink,X_test_rnn_shrink,y_train_rnn,y_test_rnn = ts.bookkeeping.organize_data(all_spikes=all_spikes,my_neuron=neuron_n,\n",
    "                                                  subsample=None,train_test_ratio=0.9,\n",
    "                                                  winsize=5,convolve_params=None,\n",
    "                                                  RNN_out=True,verbose=False,shrink_X=0.1)\n",
    "    rnn_pred, rnn_model = RNN_into_GLM(X_train_rnn_shrink,y_train_rnn,X_test_rnn_shrink)\n",
    "    \n",
    "    glm_low.append(ts.math.poisson_pseudoR2(y_test,glm_pred,verbose=False))\n",
    "    rnn_low.append(ts.math.poisson_pseudoR2(y_test_rnn,rnn_pred,verbose=False))\n",
    "\n",
    "glm_mid = []\n",
    "rnn_mid = []\n",
    "\n",
    "for neuron_n in mid_spiking:\n",
    "\n",
    "    X_train,X_test,y_train,y_test = ts.bookkeeping.organize_data(all_spikes=all_spikes,my_neuron=neuron_n,\n",
    "                                                  subsample=None,train_test_ratio=0.9,\n",
    "                                                  winsize=5,convolve_params=None,\n",
    "                                                  RNN_out=False,verbose=False)\n",
    "    glm_pred,glm_model = ts.models.GLM_poisson(X_train,y_train,X_test,return_model=True)\n",
    "    \n",
    "    X_train_rnn_shrink,X_test_rnn_shrink,y_train_rnn,y_test_rnn = ts.bookkeeping.organize_data(all_spikes=all_spikes,my_neuron=neuron_n,\n",
    "                                                  subsample=None,train_test_ratio=0.9,\n",
    "                                                  winsize=5,convolve_params=None,\n",
    "                                                  RNN_out=True,verbose=False,shrink_X=0.1)\n",
    "    rnn_pred, rnn_model = RNN_into_GLM(X_train_rnn_shrink,y_train_rnn,X_test_rnn_shrink)\n",
    "    \n",
    "    glm_mid.append(ts.math.poisson_pseudoR2(y_test,glm_pred,verbose=False))\n",
    "    rnn_mid.append(ts.math.poisson_pseudoR2(y_test_rnn,rnn_pred,verbose=False))\n",
    "\n",
    "glm_high = []\n",
    "rnn_high = []\n",
    "\n",
    "for neuron_n in high_spiking:\n",
    "\n",
    "    X_train,X_test,y_train,y_test = ts.bookkeeping.organize_data(all_spikes=all_spikes,my_neuron=neuron_n,\n",
    "                                                  subsample=None,train_test_ratio=0.9,\n",
    "                                                  winsize=5,convolve_params=None,\n",
    "                                                  RNN_out=False,verbose=False)\n",
    "    glm_pred,glm_model = ts.models.GLM_poisson(X_train,y_train,X_test,return_model=True)\n",
    "    \n",
    "    X_train_rnn_shrink,X_test_rnn_shrink,y_train_rnn,y_test_rnn = ts.bookkeeping.organize_data(all_spikes=all_spikes,my_neuron=neuron_n,\n",
    "                                                  subsample=None,train_test_ratio=0.9,\n",
    "                                                  winsize=5,convolve_params=None,\n",
    "                                                  RNN_out=True,verbose=False,shrink_X=0.1)\n",
    "    rnn_pred, rnn_model = RNN_into_GLM(X_train_rnn_shrink,y_train_rnn,X_test_rnn_shrink)\n",
    "    \n",
    "    glm_high.append(ts.math.poisson_pseudoR2(y_test,glm_pred,verbose=False))\n",
    "    rnn_high.append(ts.math.poisson_pseudoR2(y_test_rnn,rnn_pred,verbose=False))\n",
    "np.save('glmlow',glm_low)\n",
    "np.save('rnnlow',rnn_low)\n",
    "np.save('glmmid',glm_mid)\n",
    "np.save('rnnmid',rnn_mid)\n",
    "np.save('glmhigh',glm_high)\n",
    "np.save('rnnhigh',rnn_high)\n",
    "\n",
    "    "
   ]
  },
  {
   "cell_type": "code",
   "execution_count": null,
   "metadata": {
    "collapsed": false
   },
   "outputs": [],
   "source": [
    "#print glm_mid\n",
    "#rnn_mid\n",
    "plt.violinplot([glm_mid,rnn_mid],[1,2])\n",
    "plt.violinplot([glm_high,rnn_high],[4,5])"
   ]
  },
  {
   "cell_type": "code",
   "execution_count": 12,
   "metadata": {
    "collapsed": false,
    "scrolled": true
   },
   "outputs": [
    {
     "name": "stdout",
     "output_type": "stream",
     "text": [
      "using only data preceeding spikes with window_size: 5\n",
      "Epoch 1/3\n",
      "10871/10871 [==============================] - 0s - loss: 0.9346     \n",
      "Epoch 2/3\n",
      "10871/10871 [==============================] - 0s - loss: 0.7850     \n",
      "Epoch 3/3\n",
      "10871/10871 [==============================] - 0s - loss: 0.7642     \n",
      "using only data preceeding spikes with window_size: 5\n",
      "Epoch 1/10\n",
      "1s - loss: 0.3957\n",
      "Epoch 2/10\n",
      "1s - loss: 0.3721\n",
      "Epoch 3/10\n",
      "1s - loss: 0.3715\n",
      "Epoch 4/10\n",
      "1s - loss: 0.3705\n",
      "Epoch 5/10\n",
      "1s - loss: 0.3692\n",
      "Epoch 6/10\n",
      "1s - loss: 0.3670\n",
      "Epoch 7/10\n",
      "1s - loss: 0.3627\n",
      "Epoch 8/10\n",
      "1s - loss: 0.3536\n",
      "Epoch 9/10\n",
      "1s - loss: 0.3384\n",
      "Epoch 10/10\n",
      "1s - loss: 0.3297\n"
     ]
    },
    {
     "ename": "ValueError",
     "evalue": "too many values to unpack",
     "output_type": "error",
     "traceback": [
      "\u001b[0;31m---------------------------------------------------------------------------\u001b[0m",
      "\u001b[0;31mValueError\u001b[0m                                Traceback (most recent call last)",
      "\u001b[0;32m<ipython-input-12-345a881eeef7>\u001b[0m in \u001b[0;36m<module>\u001b[0;34m()\u001b[0m\n\u001b[1;32m     19\u001b[0m \u001b[0;34m\u001b[0m\u001b[0m\n\u001b[1;32m     20\u001b[0m \u001b[0;34m\u001b[0m\u001b[0m\n\u001b[0;32m---> 21\u001b[0;31m     \u001b[0m_\u001b[0m\u001b[0;34m,\u001b[0m \u001b[0mglm_accuracy\u001b[0m \u001b[0;34m=\u001b[0m \u001b[0mts\u001b[0m\u001b[0;34m.\u001b[0m\u001b[0mmodels\u001b[0m\u001b[0;34m.\u001b[0m\u001b[0mXGB_ensemble\u001b[0m\u001b[0;34m(\u001b[0m\u001b[0mglm_pred\u001b[0m\u001b[0;34m,\u001b[0m\u001b[0my_test\u001b[0m\u001b[0;34m)\u001b[0m\u001b[0;34m\u001b[0m\u001b[0m\n\u001b[0m\u001b[1;32m     22\u001b[0m     \u001b[0m_\u001b[0m\u001b[0;34m,\u001b[0m \u001b[0mnn_accuracy\u001b[0m \u001b[0;34m=\u001b[0m \u001b[0mts\u001b[0m\u001b[0;34m.\u001b[0m\u001b[0mmodels\u001b[0m\u001b[0;34m.\u001b[0m\u001b[0mXGB_ensemble\u001b[0m\u001b[0;34m(\u001b[0m\u001b[0mnn_pred\u001b[0m\u001b[0;34m,\u001b[0m\u001b[0my_test\u001b[0m\u001b[0;34m)\u001b[0m\u001b[0;34m\u001b[0m\u001b[0m\n\u001b[1;32m     23\u001b[0m     \u001b[0m_\u001b[0m\u001b[0;34m,\u001b[0m \u001b[0mrnn_accuracy\u001b[0m \u001b[0;34m=\u001b[0m \u001b[0mts\u001b[0m\u001b[0;34m.\u001b[0m\u001b[0mmodels\u001b[0m\u001b[0;34m.\u001b[0m\u001b[0mXGB_ensemble\u001b[0m\u001b[0;34m(\u001b[0m\u001b[0mrnn_pred\u001b[0m\u001b[0;34m,\u001b[0m\u001b[0my_test\u001b[0m\u001b[0;34m)\u001b[0m\u001b[0;34m\u001b[0m\u001b[0m\n",
      "\u001b[0;31mValueError\u001b[0m: too many values to unpack"
     ]
    }
   ],
   "source": [
    "avg_neuron = ts.bookkeeping.sort_spikes(all_spikes,method='sum')[all_spikes.shape[0]/2]\n",
    "these_neurons = [avg_neuron]\n",
    "\n",
    "for neuron_n in these_neurons:\n",
    "    X_train,X_test,y_train,y_test = ts.bookkeeping.organize_data(all_spikes=all_spikes,my_neuron=neuron_n,\n",
    "                                                  subsample=None,train_test_ratio=0.7,\n",
    "                                                  winsize=5,convolve_params=None,\n",
    "                                                  RNN_out=False,verbose=False)\n",
    "    \n",
    "    glm_pred = ts.models.GLM_poisson(X_train,y_train,X_test,return_model=False)\n",
    "    nn_pred = ts.models.NN_poisson(X_train,y_train,X_test,return_model=False)\n",
    "    xgb_pred = ts.models.XGB_poisson(X_train,y_train,X_test)\n",
    "\n",
    "    X_train_rnn_shrink,X_test_rnn_shrink,y_train_rnn,y_test_rnn = ts.bookkeeping.organize_data(all_spikes=all_spikes,my_neuron=neuron_n,\n",
    "                                                  subsample=None,train_test_ratio=0.7,\n",
    "                                                  winsize=5,convolve_params=None,\n",
    "                                                  RNN_out=True,verbose=False,shrink_X=0.1)\n",
    "    rnn_pred, rnn_model = ts.models.RNN_poisson(X_train_rnn_shrink,y_train_rnn,X_test_rnn_shrink,return_model=True)\n",
    "\n",
    "    \n",
    "    _, glm_accuracy = ts.models.XGB_ensemble(glm_pred,y_test)\n",
    "    _, nn_accuracy = ts.models.XGB_ensemble(nn_pred,y_test)\n",
    "    _, rnn_accuracy = ts.models.XGB_ensemble(rnn_pred,y_test)\n",
    "    _, xgb_accuracy = ts.models.XGB_ensemble(xgb_pred,y_test)\n",
    "    \n",
    "    print \"GLM PseudoR2: \" + str(ts.math.poisson_pseudoR2(y_test,glm_pred))\n",
    "    print \"NN PseudoR2: \" + str(ts.math.poisson_pseudoR2(y_test,nn_pred))\n",
    "    print \"RNN PseudoR2: \" + str(ts.math.poisson_pseudoR2(y_test,rnn_pred))\n",
    "    print \"XGB PseudoR2: \" + str(ts.math.poisson_pseudoR2(y_test,xgb_pred))\n",
    "\n",
    "    print(\"GLM Accuracy: %.2f%%\" % (glm_accuracy * 100.0))\n",
    "    print(\"NN Accuracy: %.2f%%\" % (nn_accuracy * 100.0))\n",
    "    print(\"RNN Accuracy: %.2f%%\" % (rnn_accuracy * 100.0))\n",
    "    print(\"XGB Accuracy: %.2f%%\" % (xgb_accuracy * 100.0))\n",
    "    \n",
    "    #use ensmble methods to predict spiking\n",
    "    ensemble_train_full = np.squeeze(np.array([glm_pred,nn_pred,rnn_pred,xgb_pred])).T\n",
    "\n",
    "    ensemble_preds, accuracy = ts.models.XGB_ensemble(ensemble_train_full,y_test)\n",
    "\n",
    "    print(\"Ensemble Accuracy: %.2f%%\" % (accuracy * 100.0))"
   ]
  },
  {
   "cell_type": "code",
   "execution_count": null,
   "metadata": {
    "collapsed": false
   },
   "outputs": [],
   "source": [
    "#ensemble_validate_test,ensemble_glm_pred, glm_accuracy = ts.models.XGB_ensemble(glm_pred,y_test)\n"
   ]
  },
  {
   "cell_type": "code",
   "execution_count": null,
   "metadata": {
    "collapsed": false
   },
   "outputs": [],
   "source": [
    "validate_train = np.squeeze(np.array([glm_pred[cross_validation_ind:],cnn_pred[cross_validation_ind:],rnn_pred[cross_validation_ind:]])).T\n",
    "validate_test = y_test[cross_validation_ind:]\n",
    "print ensemble_validate.shape\n",
    "y_pred = model.predict(validate_train)"
   ]
  },
  {
   "cell_type": "code",
   "execution_count": null,
   "metadata": {
    "collapsed": false
   },
   "outputs": [],
   "source": [
    "\n",
    "model.fit(ensemble_train, ensemble_test)\n",
    "ensemble_pred = model.predict(ensemble_validate_train)\n",
    "\n",
    "#calculate accuracy\n",
    "\n",
    "accuracy = accuracy_score(ensemble_validate_test,ensemble_pred)\n",
    "\n",
    "print(\"Accuracy: %.2f%%\" % (accuracy * 100.0))\n"
   ]
  },
  {
   "cell_type": "code",
   "execution_count": null,
   "metadata": {
    "collapsed": false
   },
   "outputs": [],
   "source": [
    "plt.hist(y_pred)"
   ]
  },
  {
   "cell_type": "code",
   "execution_count": null,
   "metadata": {
    "collapsed": false
   },
   "outputs": [],
   "source": [
    "#from keras.utils.visualize_util import plot as kplot\n",
    "#kplot(mod)\n",
    "\n",
    "#from IPython.display import SVG\n",
    "#from keras.utils.visualize_util import model_to_dot\n",
    "\n",
    "SVG(model_to_dot(rnn_model,show_shapes=True,show_layer_names=False).create(prog='dot', format='svg'))\n",
    "#SVG(model_to_dot(glm_model,show_shapes=True,show_layer_names=False).create(prog='dot', format='svg'))\n",
    "#model_to_dot??"
   ]
  },
  {
   "cell_type": "code",
   "execution_count": null,
   "metadata": {
    "collapsed": false
   },
   "outputs": [],
   "source": [
    "t = np.array((1,2,3,np.nan))\n",
    "any(np.isnan(t))"
   ]
  },
  {
   "cell_type": "code",
   "execution_count": null,
   "metadata": {
    "collapsed": false
   },
   "outputs": [],
   "source": [
    "t = range(10)\n",
    "t_z = ((t-np.mean(t))/np.std(t))\n",
    "t_z = t_z-min(t_z)\n",
    "print t_z"
   ]
  },
  {
   "cell_type": "code",
   "execution_count": null,
   "metadata": {
    "collapsed": false
   },
   "outputs": [],
   "source": [
    "print '\\n'\n",
    "print 'lax'"
   ]
  },
  {
   "cell_type": "code",
   "execution_count": null,
   "metadata": {
    "collapsed": true
   },
   "outputs": [],
   "source": []
  }
 ],
 "metadata": {
  "anaconda-cloud": {},
  "kernelspec": {
   "display_name": "Python [default]",
   "language": "python",
   "name": "python2"
  },
  "language_info": {
   "codemirror_mode": {
    "name": "ipython",
    "version": 2
   },
   "file_extension": ".py",
   "mimetype": "text/x-python",
   "name": "python",
   "nbconvert_exporter": "python",
   "pygments_lexer": "ipython2",
   "version": "2.7.12"
  }
 },
 "nbformat": 4,
 "nbformat_minor": 0
}
